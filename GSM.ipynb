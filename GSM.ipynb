{
  "nbformat": 4,
  "nbformat_minor": 0,
  "metadata": {
    "colab": {
      "provenance": []
    },
    "kernelspec": {
      "name": "python3",
      "display_name": "Python 3"
    },
    "language_info": {
      "name": "python"
    }
  },
  "cells": [
    {
      "cell_type": "code",
      "execution_count": 1,
      "metadata": {
        "colab": {
          "base_uri": "https://localhost:8080/"
        },
        "id": "lWf9yZqxL2dR",
        "outputId": "ee78e943-ea84-40f7-fa71-9cf6bfdd0c70"
      },
      "outputs": [
        {
          "output_type": "stream",
          "name": "stdout",
          "text": [
            "128 Bit Key =  1001000100001111001100101111000101011110101110001011011111100000111001111000110010111011100011011001100111001000001001001011100\n",
            "128 Random Bits Generated =  10001111010110110000101111111010110010011000000011010110100010010101111001010110110110110000011101011010110001100001001011000010\n",
            "RES/SRES =  00110010110111101101111000111101\n"
          ]
        }
      ],
      "source": [
        "import random\n",
        "\n",
        "k=random.getrandbits(128)\n",
        "m=random.getrandbits(128)\n",
        "kb=bin(k)[2:]\n",
        "mb=bin(m)[2:]\n",
        "kbl=kb[0:64]\n",
        "kbr=kb[64:]\n",
        "mbl=mb[0:64]\n",
        "mbr=mb[64:]\n",
        "a1=int(kbl,2)^int(mbr,2)\n",
        "a2=int(kbr,2)^int(mbl,2)\n",
        "a3=a1^a2\n",
        "a4=bin(a3)[2:].zfill(64)\n",
        "a5=a4[0:32]\n",
        "a6=a4[32:]\n",
        "a7=int(a5,2)^int(a6,2)\n",
        "print(\"128 Bit Key = \",kb)\n",
        "print(\"128 Random Bits Generated = \",mb)\n",
        "print(\"RES/SRES = \",bin(a7)[2:].zfill(len(a5)))"
      ]
    },
    {
      "cell_type": "code",
      "source": [],
      "metadata": {
        "id": "wTzFK0MHL3L2"
      },
      "execution_count": null,
      "outputs": []
    }
  ]
}