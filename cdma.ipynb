{
  "nbformat": 4,
  "nbformat_minor": 0,
  "metadata": {
    "colab": {
      "provenance": []
    },
    "kernelspec": {
      "name": "python3",
      "display_name": "Python 3"
    },
    "language_info": {
      "name": "python"
    }
  },
  "cells": [
    {
      "cell_type": "code",
      "execution_count": 2,
      "metadata": {
        "colab": {
          "base_uri": "https://localhost:8080/"
        },
        "id": "yNYlFNFtKW67",
        "outputId": "cb4ae954-00cf-47c5-d127-95076133f725"
      },
      "outputs": [
        {
          "output_type": "stream",
          "name": "stdout",
          "text": [
            "Enter the data bits :\n",
            "Enter D1 :40\n",
            "Enter D2 :74\n",
            "Enter D3 :56\n",
            "Enter D4 :80\n",
            "Resultant Channel [250 -58 -22 -10]\n",
            "Enter  the station to listen for C1=1 ,C2=2, C3=3 C4=4 : 2\n",
            "Inner Product [250  58 -22  10]\n",
            "Data bit that was sent 74.0\n"
          ]
        },
        {
          "output_type": "execute_result",
          "data": {
            "text/plain": [
              "50"
            ]
          },
          "metadata": {},
          "execution_count": 2
        }
      ],
      "source": [
        "import numpy as np\n",
        "c1=[1,1,1,1]\n",
        "c2=[1,-1,1,-1]\n",
        "c3=[1,1,-1,-1]\n",
        "c4=[1,-1,-1,1]\n",
        "rc=[]\n",
        "\n",
        "print(\"Enter the data bits :\")\n",
        "\n",
        "d1=int(input(\"Enter D1 :\"))\n",
        "d2=int(input(\"Enter D2 :\"))\n",
        "d3=int(input(\"Enter D3 :\"))\n",
        "d4=int(input(\"Enter D4 :\"))\n",
        "r1=np.multiply(c1,d1)\n",
        "r2=np.multiply(c2,d2)\n",
        "r3=np.multiply(c3,d3)\n",
        "r4=np.multiply(c4,d4)\n",
        "resultant_channel=r1+r2+r3+r4;\n",
        "print(\"Resultant Channel\",resultant_channel)\n",
        "Channel=int(input(\"Enter  the station to listen for C1=1 ,C2=2, C3=3 C4=4 : \"))\n",
        "\n",
        "if Channel==1:\n",
        "  rc=c1\n",
        "elif Channel==2:\n",
        "  rc=c2\n",
        "elif Channel==3:\n",
        "  rc=c3\n",
        "elif Channel==4:\n",
        "  rc=c4\n",
        "inner_product = np.multiply(resultant_channel,rc)\n",
        "\n",
        "print(\"Inner Product\",inner_product)\n",
        "res1=sum(inner_product)\n",
        "\n",
        "data = res1/len(inner_product) \n",
        "print(\"Data bit that was sent\",data)\n",
        "50\n"
      ]
    },
    {
      "cell_type": "code",
      "source": [],
      "metadata": {
        "id": "10vUt6LXKX2K"
      },
      "execution_count": null,
      "outputs": []
    }
  ]
}